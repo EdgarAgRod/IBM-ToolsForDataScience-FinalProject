{
 "cells": [
  {
   "cell_type": "markdown",
   "id": "2d22911b-4b68-4351-aa97-a06922100a7e",
   "metadata": {},
   "source": [
    "# Data Science Tools and Ecosystem"
   ]
  },
  {
   "cell_type": "markdown",
   "id": "a2745ce5-c0a9-4692-a99f-d4ae65684173",
   "metadata": {
    "tags": []
   },
   "source": [
    "In this notebook, Data Science Tools and Ecosystem are summarized."
   ]
  },
  {
   "cell_type": "markdown",
   "id": "88d95b8b-5f6b-4a9f-90ee-cd7b41cdd898",
   "metadata": {},
   "source": [
    "**Objectives:**\n",
    "- List popular languages for Data Science\n",
    "- List commonly used libraries for Data Science\n",
    "- List some tools for Data Science"
   ]
  },
  {
   "cell_type": "markdown",
   "id": "32cc81c4-6398-4741-8918-c7d4053b250a",
   "metadata": {},
   "source": [
    "Some of the popular languages that Data Scientists use are:\n",
    "1. Python\n",
    "2. R\n",
    "3. Julia"
   ]
  },
  {
   "cell_type": "markdown",
   "id": "5d4a7e37-4852-4a85-b104-1e3c6a42c6cb",
   "metadata": {},
   "source": [
    "Some of the commonly used libraries used by Data Scientists include:\n",
    "1. Pandas\n",
    "2. Numpy\n",
    "3. Sci-kit Learn"
   ]
  },
  {
   "cell_type": "markdown",
   "id": "46850d06-339b-479f-802d-3dea706dc9d7",
   "metadata": {},
   "source": [
    "| Data Science Tools |\n",
    "| --- |\n",
    "| Visual Studio Code |\n",
    "| GitHub |\n",
    "| RStudio |"
   ]
  },
  {
   "cell_type": "markdown",
   "id": "9be550eb-e7b1-4528-9cc3-7c60f63c0eb8",
   "metadata": {},
   "source": [
    "### Below are a few examples of evaluating arithmetic expressions in Python"
   ]
  },
  {
   "cell_type": "code",
   "execution_count": 3,
   "id": "eec34e54-3736-4250-b4c1-dd6785560293",
   "metadata": {
    "tags": []
   },
   "outputs": [
    {
     "data": {
      "text/plain": [
       "17"
      ]
     },
     "execution_count": 3,
     "metadata": {},
     "output_type": "execute_result"
    }
   ],
   "source": [
    "# This a simple arithmetic expression to mutiply then add integers\n",
    "(3*4)+5"
   ]
  },
  {
   "cell_type": "code",
   "execution_count": 4,
   "id": "f9146d63-272c-4ff5-bf63-ea11b91b5d88",
   "metadata": {
    "tags": []
   },
   "outputs": [
    {
     "data": {
      "text/plain": [
       "3.3333333333333335"
      ]
     },
     "execution_count": 4,
     "metadata": {},
     "output_type": "execute_result"
    }
   ],
   "source": [
    "# This will convert 200 minutes to hours by diving by 60\n",
    "200 / 60"
   ]
  },
  {
   "cell_type": "markdown",
   "id": "7c6fae8b-627c-4325-819e-618142d391da",
   "metadata": {},
   "source": [
    "## Author\n",
    "EdgarAgRod"
   ]
  }
 ],
 "metadata": {
  "kernelspec": {
   "display_name": "Python 3 (ipykernel)",
   "language": "python",
   "name": "python3"
  },
  "language_info": {
   "codemirror_mode": {
    "name": "ipython",
    "version": 3
   },
   "file_extension": ".py",
   "mimetype": "text/x-python",
   "name": "python",
   "nbconvert_exporter": "python",
   "pygments_lexer": "ipython3",
   "version": "3.11.5"
  }
 },
 "nbformat": 4,
 "nbformat_minor": 5
}
